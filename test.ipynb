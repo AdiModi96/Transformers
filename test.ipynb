{
 "cells": [
  {
   "cell_type": "code",
   "execution_count": null,
   "id": "b3bcb8b6-c9f4-4e0b-9a23-6e3d75485405",
   "metadata": {},
   "outputs": [],
   "source": [
    "import torch\n",
    "from torch.nn.functional import dropout\n",
    "\n",
    "from architectures import (\n",
    "    EncoderDecoderTransformer,\n",
    "    EncoderOnlyTransformer,\n",
    "    DecoderOnlyTransformer\n",
    ")"
   ]
  },
  {
   "cell_type": "code",
   "execution_count": null,
   "id": "a3de5c16-2920-4bf6-b9bc-0db4a3cdd0e0",
   "metadata": {},
   "outputs": [],
   "source": [
    "max_seq_length = 2 ** 14\n",
    "encoder_seq_length = 150\n",
    "decoder_seq_length = 10\n",
    "encoder_vocab_size = 480\n",
    "decoder_vocab_size = 720\n",
    "batch_size = 8\n",
    "num_heads = 4\n",
    "d_model = 128\n",
    "d_hiddens = [64]\n",
    "dropout_probability = 0.25\n",
    "num_encoder_layers = 4\n",
    "num_decoder_layers = 4"
   ]
  },
  {
   "cell_type": "code",
   "execution_count": null,
   "id": "a0f5f20e-6b45-4033-8eac-ee5ec084a69e",
   "metadata": {},
   "outputs": [],
   "source": [
    "encoder_input = torch.randint(low=0, high=encoder_vocab_size, size=(batch_size, encoder_seq_length))\n",
    "decoder_input = torch.randint(low=0, high=decoder_vocab_size, size=(batch_size, decoder_seq_length))"
   ]
  },
  {
   "cell_type": "code",
   "execution_count": null,
   "id": "8c6f3dd5-1fb2-4d66-a916-563eb2110c2c",
   "metadata": {},
   "outputs": [],
   "source": [
    "encoder_decoder_transformer = EncoderDecoderTransformer(\n",
    "    encoder_vocab_size=encoder_vocab_size,\n",
    "    decoder_vocab_size=decoder_vocab_size,\n",
    "    d_model=d_model,\n",
    "    max_seq_length=max_seq_length,\n",
    "    num_heads=num_heads,\n",
    "    d_hiddens=d_hiddens,\n",
    "    dropout_probability=dropout_probability,\n",
    "    num_encoder_layers=num_encoder_layers,\n",
    "    num_decoder_layers=num_decoder_layers,\n",
    "    d_decoder_output=decoder_vocab_size\n",
    ")\n",
    "\n",
    "print(encoder_decoder_transformer(encoder_input, decoder_input).size())"
   ]
  },
  {
   "cell_type": "code",
   "execution_count": null,
   "id": "6fb6dfc4-45c1-4676-9aa1-a47d6700bcd4",
   "metadata": {},
   "outputs": [],
   "source": [
    "encoder_only_transformer = EncoderOnlyTransformer(\n",
    "    vocab_size=encoder_vocab_size,\n",
    "    d_model=d_model,\n",
    "    max_seq_length=max_seq_length,\n",
    "    num_heads=num_heads,\n",
    "    d_hiddens=d_hiddens,\n",
    "    dropout_probability=dropout_probability,\n",
    "    num_encoder_layers=num_encoder_layers,\n",
    "    d_encoder_output=encoder_vocab_size\n",
    ")\n",
    "\n",
    "print(encoder_only_transformer(encoder_input).size())"
   ]
  },
  {
   "cell_type": "code",
   "execution_count": null,
   "id": "34b916a9-6541-4120-b1e2-0df5e167e895",
   "metadata": {},
   "outputs": [],
   "source": [
    "decoder_only_transformer = DecoderOnlyTransformer(\n",
    "    vocab_size=decoder_vocab_size,\n",
    "    d_model=d_model,\n",
    "    max_seq_length=max_seq_length,\n",
    "    num_heads=num_heads,\n",
    "    d_hiddens=d_hiddens,\n",
    "    dropout_probability=dropout_probability,\n",
    "    num_decoder_layers=num_decoder_layers,\n",
    "    d_decoder_output=decoder_vocab_size\n",
    ")\n",
    "\n",
    "print(decoder_only_transformer(decoder_input).size())"
   ]
  },
  {
   "cell_type": "code",
   "execution_count": null,
   "id": "429b83f5-6d72-443e-a359-5e7b07650040",
   "metadata": {},
   "outputs": [],
   "source": []
  }
 ],
 "metadata": {
  "kernelspec": {
   "display_name": "Python 3 (ipykernel)",
   "language": "python",
   "name": "python3"
  },
  "language_info": {
   "codemirror_mode": {
    "name": "ipython",
    "version": 3
   },
   "file_extension": ".py",
   "mimetype": "text/x-python",
   "name": "python",
   "nbconvert_exporter": "python",
   "pygments_lexer": "ipython3",
   "version": "3.8.7"
  }
 },
 "nbformat": 4,
 "nbformat_minor": 5
}
